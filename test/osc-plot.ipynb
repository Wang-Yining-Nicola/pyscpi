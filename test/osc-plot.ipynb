{
 "cells": [
  {
   "cell_type": "code",
   "execution_count": 1,
   "metadata": {},
   "outputs": [
    {
     "data": {
      "text/plain": [
       "'/home/danial/code/pyscpi'"
      ]
     },
     "execution_count": 1,
     "metadata": {},
     "output_type": "execute_result"
    }
   ],
   "source": [
    "import repackage\n",
    "repackage.add_path('/home/danial/code/pyscpi/')"
   ]
  },
  {
   "cell_type": "code",
   "execution_count": 2,
   "metadata": {},
   "outputs": [
    {
     "name": "stdout",
     "output_type": "stream",
     "text": [
      "KEYSIGHT TECHNOLOGIES,DSOX1202G,CN61444379,02.12.2021071625\n",
      "\n"
     ]
    }
   ],
   "source": [
    "from pyscpi import scpi\n",
    "from pyscpi.keysight import osc\n",
    "\n",
    "inst = scpi.Instrument('192.168.178.50', 5025)\n",
    "\n",
    "print(inst.query('*IDN?'))"
   ]
  },
  {
   "cell_type": "code",
   "execution_count": 3,
   "metadata": {},
   "outputs": [
    {
     "name": "stderr",
     "output_type": "stream",
     "text": [
      "WARNING: could not determine DPI\n"
     ]
    },
    {
     "data": {
      "application/vnd.jupyter.widget-view+json": {
       "model_id": "b82485adec65421291117a2b4e1eb8b1",
       "version_major": 2,
       "version_minor": 0
      },
      "text/plain": [
       "RFBOutputContext()"
      ]
     },
     "metadata": {},
     "output_type": "display_data"
    },
    {
     "name": "stderr",
     "output_type": "stream",
     "text": [
      "WARNING: could not determine DPI\n"
     ]
    }
   ],
   "source": [
    "from pyglplot import plot\n",
    "import numpy as np\n",
    "\n",
    "line = plot.Line()\n",
    "canvas = plot.Canvas([line])\n",
    "\n",
    "line.setColor([1, 1, 0])"
   ]
  },
  {
   "cell_type": "code",
   "execution_count": null,
   "metadata": {},
   "outputs": [],
   "source": [
    "def loop():\n",
    "    t, y = osc.readSingleChannel(inst, 1, 1000)\n",
    "    t = t / np.max(t)\n",
    "    y = y / np.max(y)\n",
    "    line.setXY(t, y)\n",
    "\n",
    "canvas.setEventLoop(loop)\n",
    "\n"
   ]
  },
  {
   "cell_type": "code",
   "execution_count": 5,
   "metadata": {},
   "outputs": [
    {
     "data": {
      "text/html": [
       "<div class='initial-snapshot-bae6acf8a5284b63aa2bd6ea66b627fc' style='position:relative;'><img src='data:image/png;base64,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' style='width:512.0px;height:512.0px;' /><div style='position: absolute; top:0; left:0; padding:1px 3px; background: #777; color:#fff; font-size: 90%; font-family:sans-serif; '>initial snapshot</div></div>"
      ],
      "text/plain": [
       "<jupyter_rfb._utils.Snapshot object>"
      ]
     },
     "metadata": {},
     "output_type": "display_data"
    },
    {
     "data": {
      "application/vnd.jupyter.widget-view+json": {
       "model_id": "bae6acf8a5284b63aa2bd6ea66b627fc",
       "version_major": 2,
       "version_minor": 0
      },
      "text/plain": [
       "CanvasBackend(css_height='512px', css_width='512px')"
      ]
     },
     "execution_count": 5,
     "metadata": {},
     "output_type": "execute_result"
    }
   ],
   "source": [
    "canvas"
   ]
  }
 ],
 "metadata": {
  "kernelspec": {
   "display_name": "Python 3",
   "language": "python",
   "name": "python3"
  },
  "language_info": {
   "codemirror_mode": {
    "name": "ipython",
    "version": 3
   },
   "file_extension": ".py",
   "mimetype": "text/x-python",
   "name": "python",
   "nbconvert_exporter": "python",
   "pygments_lexer": "ipython3",
   "version": "3.10.6"
  },
  "orig_nbformat": 4,
  "vscode": {
   "interpreter": {
    "hash": "916dbcbb3f70747c44a77c7bcd40155683ae19c65e1c03b4aa3499c5328201f1"
   }
  }
 },
 "nbformat": 4,
 "nbformat_minor": 2
}
